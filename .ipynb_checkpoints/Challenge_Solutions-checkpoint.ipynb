{
 "cells": [
  {
   "cell_type": "code",
   "execution_count": null,
   "id": "2987b7cf-824c-4459-8b56-1fa8b2888a96",
   "metadata": {},
   "outputs": [],
   "source": [
    "x = value\n",
    "if condition:\n",
    "    statements                       \n",
    "else:\n",
    "    statements"
   ]
  },
  {
   "cell_type": "code",
   "execution_count": null,
   "id": "2ab426b8-90cf-44fb-8a2e-b495e650d2d7",
   "metadata": {},
   "outputs": [],
   "source": []
  },
  {
   "cell_type": "markdown",
   "id": "9c1d4562-dcf8-46dd-9bbc-76cc84898e16",
   "metadata": {},
   "source": [
    "### Wage calculator"
   ]
  },
  {
   "cell_type": "code",
   "execution_count": 11,
   "id": "94f6cfeb-8890-4ebf-ab4c-c33aeaa6e9d3",
   "metadata": {},
   "outputs": [],
   "source": [
    "import sys"
   ]
  },
  {
   "cell_type": "code",
   "execution_count": 38,
   "id": "0fe064e8-19b2-492c-82ef-ae41d614a0af",
   "metadata": {},
   "outputs": [
    {
     "name": "stdout",
     "output_type": "stream",
     "text": [
      "{'Benson': [42, 38, 47, 44], 'Joan': [41, 33, 49, 25], 'Stephany': [45, 41, 40, 38]}\n",
      "184 bytes\n"
     ]
    }
   ],
   "source": [
    "employees = {\"Benson\":[42, 38, 47, 44], \"Joan\":[41, 33, 49, 25], \"Stephany\":[45, 41,40, 38]}\n",
    "print(employees)\n",
    "print(sys.getsizeof(employees), 'bytes')"
   ]
  },
  {
   "cell_type": "code",
   "execution_count": 7,
   "id": "fbf8b6dd-eea0-4516-8c77-872b09703bbf",
   "metadata": {},
   "outputs": [
    {
     "data": {
      "text/plain": [
       "171"
      ]
     },
     "execution_count": 7,
     "metadata": {},
     "output_type": "execute_result"
    }
   ],
   "source": [
    "benson_month_hours = sum(employees[\"Benson\"])\n",
    "benson_month_hours"
   ]
  },
  {
   "cell_type": "code",
   "execution_count": 8,
   "id": "bcb24294-1802-4bd6-8c32-216fd9cebff3",
   "metadata": {},
   "outputs": [
    {
     "data": {
      "text/plain": [
       "148"
      ]
     },
     "execution_count": 8,
     "metadata": {},
     "output_type": "execute_result"
    }
   ],
   "source": [
    "joan_month_hours = sum(employees[\"Joan\"])\n",
    "joan_month_hours"
   ]
  },
  {
   "cell_type": "code",
   "execution_count": 18,
   "id": "45fab4e3-7cb6-4ca7-9361-51eab13a16e4",
   "metadata": {},
   "outputs": [
    {
     "data": {
      "text/plain": [
       "dict_keys(['Benson', 'Joan'])"
      ]
     },
     "execution_count": 18,
     "metadata": {},
     "output_type": "execute_result"
    }
   ],
   "source": [
    "employees.keys()"
   ]
  },
  {
   "cell_type": "code",
   "execution_count": 40,
   "id": "08b60988-b2da-48f3-859c-08e9400df4c8",
   "metadata": {},
   "outputs": [],
   "source": [
    "# 40 hours/week\n",
    "# rate : $75\n",
    "# overtime: 1.5times of the normal rate\n",
    "\n",
    "# for i in employees.keys():\n",
    "#     print(i)\n",
    "\n",
    "\n",
    "\n",
    "def salary_calc(x):\n",
    "    for i in x.keys():\n",
    "        if sum(x[i])<160:\n",
    "            print(f\"{i} ${sum(x[i])*75}\")\n",
    "        else:\n",
    "            wage = (160*75)+((sum(x[i])-160)*(1.5*75))\n",
    "            print(f\"{i} ${wage}\")"
   ]
  },
  {
   "cell_type": "code",
   "execution_count": 41,
   "id": "0785e954-5513-4747-ac9f-1f34c482a9c9",
   "metadata": {},
   "outputs": [
    {
     "name": "stdout",
     "output_type": "stream",
     "text": [
      "Benson $13237.5\n",
      "Joan $11100\n",
      "Stephany $12450.0\n"
     ]
    }
   ],
   "source": [
    "salary_calc(employees)"
   ]
  },
  {
   "cell_type": "code",
   "execution_count": 33,
   "id": "13eb96df-fe5c-4327-a8c5-e478d34cbd70",
   "metadata": {},
   "outputs": [],
   "source": [
    "def wage(h):\n",
    "    if h<160:\n",
    "        return h*75\n",
    "    else:\n",
    "        tt = ((160*75) + ((h-160)*(1.5*75)))\n",
    "        return tt"
   ]
  },
  {
   "cell_type": "code",
   "execution_count": 34,
   "id": "acfa6871-f610-4963-a330-b91631cb5308",
   "metadata": {},
   "outputs": [
    {
     "data": {
      "text/plain": [
       "13237.5"
      ]
     },
     "execution_count": 34,
     "metadata": {},
     "output_type": "execute_result"
    }
   ],
   "source": [
    "wage(171)"
   ]
  },
  {
   "cell_type": "code",
   "execution_count": 35,
   "id": "021992f2-631b-417a-80c3-02c23aa24987",
   "metadata": {},
   "outputs": [
    {
     "data": {
      "text/plain": [
       "11100"
      ]
     },
     "execution_count": 35,
     "metadata": {},
     "output_type": "execute_result"
    }
   ],
   "source": [
    "wage(148)"
   ]
  },
  {
   "cell_type": "code",
   "execution_count": null,
   "id": "4476774a-35d2-4771-9636-27cf98800e9c",
   "metadata": {},
   "outputs": [],
   "source": []
  },
  {
   "cell_type": "markdown",
   "id": "4846300a-f1bf-4f37-b061-b8ed1d368522",
   "metadata": {},
   "source": [
    "## Tetrahedron"
   ]
  },
  {
   "cell_type": "code",
   "execution_count": null,
   "id": "4139ead3-61bb-4972-97a3-336d58ad9d90",
   "metadata": {},
   "outputs": [],
   "source": []
  },
  {
   "cell_type": "code",
   "execution_count": null,
   "id": "54198387-a326-46e0-8120-4ef3bb624c1c",
   "metadata": {},
   "outputs": [],
   "source": []
  },
  {
   "cell_type": "code",
   "execution_count": null,
   "id": "8c856b83-a32d-4278-b578-1f64efcb3543",
   "metadata": {},
   "outputs": [],
   "source": [
    "dim = 7"
   ]
  },
  {
   "cell_type": "code",
   "execution_count": 50,
   "id": "86b85ff5-f060-4a00-bf60-583ff32942e9",
   "metadata": {},
   "outputs": [],
   "source": [
    "\n",
    "def volume():\n",
    "    from math import sqrt\n",
    "    d = int(input(\"Enter the length: \"))\n",
    "    volume = d**3/(6*sqrt(2))\n",
    "    print(f\"{round(volume, 2)} m^3\")"
   ]
  },
  {
   "cell_type": "code",
   "execution_count": 51,
   "id": "8ae70ee6-8414-413e-bedc-524659dc0ef6",
   "metadata": {},
   "outputs": [
    {
     "name": "stdin",
     "output_type": "stream",
     "text": [
      "Enter the length:  7\n"
     ]
    },
    {
     "name": "stdout",
     "output_type": "stream",
     "text": [
      "40.42 m^3\n"
     ]
    }
   ],
   "source": [
    "volume()"
   ]
  },
  {
   "cell_type": "code",
   "execution_count": null,
   "id": "371d0aa3-e55f-4006-bfeb-e4c4b0d8d77f",
   "metadata": {},
   "outputs": [],
   "source": []
  },
  {
   "cell_type": "code",
   "execution_count": null,
   "id": "90a94db7-a7e5-43cf-9796-3f90b636bf5c",
   "metadata": {},
   "outputs": [],
   "source": []
  },
  {
   "cell_type": "code",
   "execution_count": 53,
   "id": "8b6f7b6a-c507-4ca5-aad1-929685a7844e",
   "metadata": {},
   "outputs": [],
   "source": [
    "prices = {\n",
    "    \"box_of_spaghetti\" : 4,\n",
    "    \"lasagna\"  : 5,\n",
    "    \"hamburger\" : 2\n",
    "   }\n",
    "quantity = {\n",
    "    \"box_of_spaghetti\" : 6,\n",
    "    \"lasagna\"  : 10,\n",
    "    \"hamburger\" : 0\n",
    "    }"
   ]
  },
  {
   "cell_type": "code",
   "execution_count": 65,
   "id": "c2bbdb48-3113-4e8b-b693-eb79944806d8",
   "metadata": {},
   "outputs": [],
   "source": [
    "money = 0\n",
    "for i in prices.keys():\n",
    "    money += prices[i]*quantity[i]    "
   ]
  },
  {
   "cell_type": "code",
   "execution_count": 66,
   "id": "9b76887e-e432-4717-a9b3-2aa06b312623",
   "metadata": {},
   "outputs": [
    {
     "data": {
      "text/plain": [
       "74"
      ]
     },
     "execution_count": 66,
     "metadata": {},
     "output_type": "execute_result"
    }
   ],
   "source": [
    "money"
   ]
  },
  {
   "cell_type": "code",
   "execution_count": 55,
   "id": "10cc9096-a3e7-438e-aa98-dab1821151cb",
   "metadata": {},
   "outputs": [
    {
     "data": {
      "text/plain": [
       "dict_keys(['box_of_spaghetti', 'lasagna', 'hamburger'])"
      ]
     },
     "execution_count": 55,
     "metadata": {},
     "output_type": "execute_result"
    }
   ],
   "source": [
    "prices.keys()"
   ]
  },
  {
   "cell_type": "code",
   "execution_count": 59,
   "id": "42ded1b6-6568-4be1-94b7-984e0222d1e6",
   "metadata": {},
   "outputs": [
    {
     "data": {
      "text/plain": [
       "5"
      ]
     },
     "execution_count": 59,
     "metadata": {},
     "output_type": "execute_result"
    }
   ],
   "source": [
    "prices['lasagna']"
   ]
  },
  {
   "cell_type": "code",
   "execution_count": null,
   "id": "087c2093-3f41-43b4-92ad-b918003fd319",
   "metadata": {},
   "outputs": [],
   "source": []
  }
 ],
 "metadata": {
  "kernelspec": {
   "display_name": "Python 3 (ipykernel)",
   "language": "python",
   "name": "python3"
  },
  "language_info": {
   "codemirror_mode": {
    "name": "ipython",
    "version": 3
   },
   "file_extension": ".py",
   "mimetype": "text/x-python",
   "name": "python",
   "nbconvert_exporter": "python",
   "pygments_lexer": "ipython3",
   "version": "3.12.1"
  }
 },
 "nbformat": 4,
 "nbformat_minor": 5
}
