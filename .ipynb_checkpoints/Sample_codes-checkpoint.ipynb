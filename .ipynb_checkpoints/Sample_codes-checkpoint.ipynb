{
 "cells": [
  {
   "cell_type": "markdown",
   "id": "224dbe88-261a-4bcf-a424-fd18557d4282",
   "metadata": {},
   "source": [
    "# Python"
   ]
  },
  {
   "cell_type": "markdown",
   "id": "5e17a839-d0da-4bf6-91c3-241493a56160",
   "metadata": {
    "jp-MarkdownHeadingCollapsed": true
   },
   "source": [
    "### Introduction"
   ]
  },
  {
   "cell_type": "code",
   "execution_count": 5,
   "id": "f236555b-3f48-4a6c-8253-1b6b96ad8f0b",
   "metadata": {},
   "outputs": [
    {
     "name": "stdout",
     "output_type": "stream",
     "text": [
      "Hello World!!\n"
     ]
    }
   ],
   "source": [
    "#print function\n",
    "print(\"Hello World!!\")"
   ]
  },
  {
   "cell_type": "code",
   "execution_count": 6,
   "id": "bd192f9b-cf4b-4183-b472-16cf79e29876",
   "metadata": {},
   "outputs": [
    {
     "name": "stdout",
     "output_type": "stream",
     "text": [
      "\n",
      "Here is a list of the Python keywords.  Enter any keyword to get more help.\n",
      "\n",
      "False               class               from                or\n",
      "None                continue            global              pass\n",
      "True                def                 if                  raise\n",
      "and                 del                 import              return\n",
      "as                  elif                in                  try\n",
      "assert              else                is                  while\n",
      "async               except              lambda              with\n",
      "await               finally             nonlocal            yield\n",
      "break               for                 not                 \n",
      "\n",
      "None\n"
     ]
    }
   ],
   "source": [
    "#Keywords in python\n",
    "print(help('keywords'))"
   ]
  },
  {
   "cell_type": "code",
   "execution_count": null,
   "id": "21f19b97-b9f9-4514-ba41-343f319fa132",
   "metadata": {},
   "outputs": [],
   "source": [
    "#Variables\n",
    "x =  5\n",
    "y = 8\n",
    "x+y \n",
    "x*y\n",
    "y/x\n",
    "5+8"
   ]
  },
  {
   "cell_type": "code",
   "execution_count": 7,
   "id": "98ee7caf-528f-44b5-b56a-4cea2a52194b",
   "metadata": {},
   "outputs": [
    {
     "name": "stdin",
     "output_type": "stream",
     "text": [
      "Enter your name:  Benson Nyota\n"
     ]
    },
    {
     "data": {
      "text/plain": [
       "'Benson Nyota'"
      ]
     },
     "execution_count": 7,
     "metadata": {},
     "output_type": "execute_result"
    }
   ],
   "source": [
    "#input function\n",
    "\n",
    "input(\"Enter your name: \")"
   ]
  },
  {
   "cell_type": "markdown",
   "id": "30f83d72-39b9-48e2-b6c3-792fc086ebb6",
   "metadata": {
    "jp-MarkdownHeadingCollapsed": true
   },
   "source": [
    "### Modules, Classes and Packages(Libraries)"
   ]
  },
  {
   "cell_type": "code",
   "execution_count": 12,
   "id": "92e0b622-a3df-4574-86cf-0d6acda80a3c",
   "metadata": {},
   "outputs": [],
   "source": [
    "#Modules\n",
    "import os #operating system function \n",
    "import sys #access to variables and functions\n",
    "import math #mathematical functions\n",
    "import random #pseudo-random numbers\n",
    "import collections #counter -- additional data structures\n",
    "import datetime\n",
    "import urllib.request #fetching data from urls"
   ]
  },
  {
   "cell_type": "code",
   "execution_count": 8,
   "id": "78b6ad27-8a19-4b0d-a4c8-4f409b372b2c",
   "metadata": {},
   "outputs": [
    {
     "name": "stdout",
     "output_type": "stream",
     "text": [
      "C:\\Users\\bency\\OneDrive\\Desktop\\Techsisters\n"
     ]
    }
   ],
   "source": [
    "import os\n",
    "print(os.getcwd())  # Prints the current working directory"
   ]
  },
  {
   "cell_type": "code",
   "execution_count": null,
   "id": "7ff41c34-be47-43e8-b160-479610dd54d3",
   "metadata": {},
   "outputs": [],
   "source": [
    "#Libraries\n",
    "import numpy as np #numericals\n",
    "import pandas as pd #dataframe\n",
    "import matplotlib #visualization\n",
    "import sklearn #machine learning\n",
    "import tensorflow as tf #deep learning\n",
    "import nltk #Natural Language Processing\n",
    "import sqlalchemy #databases connection"
   ]
  },
  {
   "cell_type": "code",
   "execution_count": null,
   "id": "8caad92b-4e32-4adb-89bc-30ae82853246",
   "metadata": {},
   "outputs": [],
   "source": []
  },
  {
   "cell_type": "code",
   "execution_count": 8,
   "id": "0986aa99-00de-4d40-9157-8f7c4572813d",
   "metadata": {},
   "outputs": [
    {
     "name": "stdout",
     "output_type": "stream",
     "text": [
      "The memory size of a list is 88 \n",
      "The memory size of a set is 216 \n",
      "The memory size of a tuple is 72 \n"
     ]
    }
   ],
   "source": [
    "# Variable sizes\n",
    "import sys\n",
    "a = ['Love', 'Cold', 'Hot', 'Python']\n",
    "b = {'Love', 'Cold', 'Hot', 'Python'}\n",
    "c = ('Love', 'Cold', 'Hot', 'Python')\n",
    "print(f'The memory size of a list is '\n",
    "f'{sys.getsizeof(a)} ') \n",
    "print(f'The memory size of a set is '\n",
    "f'{sys.getsizeof(b)} ')\n",
    "print(f'The memory size of a tuple is '\n",
    "f'{sys.getsizeof(c)} ')"
   ]
  },
  {
   "cell_type": "markdown",
   "id": "d90b0bf9-0dc6-47cb-8fe1-d5b4eebf64d9",
   "metadata": {
    "jp-MarkdownHeadingCollapsed": true
   },
   "source": [
    "## Lists"
   ]
  },
  {
   "cell_type": "code",
   "execution_count": null,
   "id": "08f4eda6-f201-4bae-968f-64d3646c8103",
   "metadata": {},
   "outputs": [],
   "source": [
    "Built in me"
   ]
  },
  {
   "cell_type": "code",
   "execution_count": 43,
   "id": "f32b9da6-9bdf-4f59-ac78-c14154e9d419",
   "metadata": {},
   "outputs": [
    {
     "name": "stdout",
     "output_type": "stream",
     "text": [
      "[1, 4, 9, 16, 4, 25]\n",
      "['mango', 'banana', 'apple', 'kiwi']\n",
      "[3.6, 6.87, 6.23]\n"
     ]
    }
   ],
   "source": [
    "#sample of a list\n",
    "squares = [1, 4, 9, 16, 4, 25]\n",
    "print(squares)\n",
    "fruits = ['mango', 'banana', 'apple', 'kiwi']\n",
    "print(fruits)\n",
    "dimensions = [3.6, 6.87, 6.23]\n",
    "print(dimensions)"
   ]
  },
  {
   "cell_type": "code",
   "execution_count": 5,
   "id": "2c781de2-f4ad-4ff9-b318-285c28bd6960",
   "metadata": {},
   "outputs": [
    {
     "data": {
      "text/plain": [
       "['mango', 'banana', 'apple', 'kiwi']"
      ]
     },
     "execution_count": 5,
     "metadata": {},
     "output_type": "execute_result"
    }
   ],
   "source": [
    "fruits"
   ]
  },
  {
   "cell_type": "markdown",
   "id": "d2f4cb7b-b0c1-4e01-909a-5fc182e94bf4",
   "metadata": {},
   "source": [
    "#### Indexing\n",
    "The aspect of retrieveing an elemnent in the list using its position"
   ]
  },
  {
   "cell_type": "code",
   "execution_count": 7,
   "id": "380d0ada-5c19-4679-94c1-98a1bd1a804f",
   "metadata": {},
   "outputs": [
    {
     "data": {
      "text/plain": [
       "1"
      ]
     },
     "execution_count": 7,
     "metadata": {},
     "output_type": "execute_result"
    }
   ],
   "source": [
    "squares[0]"
   ]
  },
  {
   "cell_type": "code",
   "execution_count": 8,
   "id": "dc205200-0a80-4d10-9856-a37f4a2b118b",
   "metadata": {},
   "outputs": [
    {
     "data": {
      "text/plain": [
       "'kiwi'"
      ]
     },
     "execution_count": 8,
     "metadata": {},
     "output_type": "execute_result"
    }
   ],
   "source": [
    "fruits[-1]"
   ]
  },
  {
   "cell_type": "code",
   "execution_count": 9,
   "id": "93a5aad7-a1b5-46c4-9eee-9dc44865458d",
   "metadata": {},
   "outputs": [
    {
     "data": {
      "text/plain": [
       "6.23"
      ]
     },
     "execution_count": 9,
     "metadata": {},
     "output_type": "execute_result"
    }
   ],
   "source": [
    "dimensions[2]"
   ]
  },
  {
   "cell_type": "markdown",
   "id": "79d64dc5-5cd5-4e6d-9d81-ec8a22e4535f",
   "metadata": {},
   "source": [
    "#### Append\n",
    "\n",
    "Adding new item(s) at the end of the list, by using the *list.append()*"
   ]
  },
  {
   "cell_type": "code",
   "execution_count": 11,
   "id": "7f0c7fdb-e7fb-4e25-8b19-563afb0ded34",
   "metadata": {},
   "outputs": [
    {
     "name": "stdout",
     "output_type": "stream",
     "text": [
      "[1, 4, 9, 16, 25, 897]\n"
     ]
    }
   ],
   "source": [
    "squares.append(897)\n",
    "print(squares)"
   ]
  },
  {
   "cell_type": "code",
   "execution_count": 12,
   "id": "9372682d-4e2f-440b-9789-e98f6f459a2f",
   "metadata": {},
   "outputs": [
    {
     "data": {
      "text/plain": [
       "['mango', 'banana', 'apple', 'kiwi', 'pawpaw']"
      ]
     },
     "execution_count": 12,
     "metadata": {},
     "output_type": "execute_result"
    }
   ],
   "source": [
    "fruits.append('pawpaw')\n",
    "fruits"
   ]
  },
  {
   "cell_type": "markdown",
   "id": "13add8e8-3f95-49f0-a479-bddc6e0a6fc7",
   "metadata": {},
   "source": [
    "#### Slicing\n"
   ]
  },
  {
   "cell_type": "code",
   "execution_count": 46,
   "id": "acc7cdde-5bf8-4850-87dd-657d25eb9401",
   "metadata": {},
   "outputs": [
    {
     "data": {
      "text/plain": [
       "['banana', 'apple']"
      ]
     },
     "execution_count": 46,
     "metadata": {},
     "output_type": "execute_result"
    }
   ],
   "source": [
    "fruits[1:3]"
   ]
  },
  {
   "cell_type": "code",
   "execution_count": 47,
   "id": "8985a9d5-9f20-414b-857d-3e46ed288f12",
   "metadata": {},
   "outputs": [
    {
     "data": {
      "text/plain": [
       "['mango', 'banana']"
      ]
     },
     "execution_count": 47,
     "metadata": {},
     "output_type": "execute_result"
    }
   ],
   "source": [
    "#first two elements\n",
    "fruits[:2]"
   ]
  },
  {
   "cell_type": "code",
   "execution_count": 48,
   "id": "7b60096f-ef8c-4163-8ad1-d198160b6c8d",
   "metadata": {},
   "outputs": [
    {
     "data": {
      "text/plain": [
       "'jhoiy'"
      ]
     },
     "execution_count": 48,
     "metadata": {},
     "output_type": "execute_result"
    }
   ],
   "source": [
    "#last element\n",
    "fruits[-1]"
   ]
  },
  {
   "cell_type": "code",
   "execution_count": 49,
   "id": "36e3c63a-6f52-4102-a847-7a6ba9136eb4",
   "metadata": {},
   "outputs": [
    {
     "data": {
      "text/plain": [
       "['yuytr', 'jhoiy']"
      ]
     },
     "execution_count": 49,
     "metadata": {},
     "output_type": "execute_result"
    }
   ],
   "source": [
    "#last two element\n",
    "fruits[-2:]"
   ]
  },
  {
   "cell_type": "code",
   "execution_count": 50,
   "id": "910ca0b1-f675-4ab2-92bc-0b3f6c288f84",
   "metadata": {},
   "outputs": [
    {
     "data": {
      "text/plain": [
       "2"
      ]
     },
     "execution_count": 50,
     "metadata": {},
     "output_type": "execute_result"
    }
   ],
   "source": [
    "fruits.index('apple')"
   ]
  },
  {
   "cell_type": "markdown",
   "id": "5ab076b0-9a11-4ffc-b889-3f794a307d83",
   "metadata": {},
   "source": [
    "#### remove\n",
    "\n",
    "Remove the first item from the list "
   ]
  },
  {
   "cell_type": "code",
   "execution_count": 17,
   "id": "61acd55a-5b9a-49d8-a45e-96624c185c67",
   "metadata": {},
   "outputs": [
    {
     "data": {
      "text/plain": [
       "['banana', 'apple', 'kiwi']"
      ]
     },
     "execution_count": 17,
     "metadata": {},
     "output_type": "execute_result"
    }
   ],
   "source": [
    "fruits.remove('mango')\n",
    "fruits"
   ]
  },
  {
   "cell_type": "markdown",
   "id": "7f881fb5-999b-41a5-bb8f-f76c0ebebb76",
   "metadata": {},
   "source": [
    "#### Replace"
   ]
  },
  {
   "cell_type": "code",
   "execution_count": 33,
   "id": "267335a6-5f97-47fe-8fc3-c30cb8652e8e",
   "metadata": {},
   "outputs": [],
   "source": [
    "squares[-1] = \"replacement\""
   ]
  },
  {
   "cell_type": "code",
   "execution_count": 34,
   "id": "2f7f3da4-4cf6-4cec-8daf-cbc47337c5f8",
   "metadata": {},
   "outputs": [
    {
     "data": {
      "text/plain": [
       "[4, 9876, 9876, 4, 'replacement']"
      ]
     },
     "execution_count": 34,
     "metadata": {},
     "output_type": "execute_result"
    }
   ],
   "source": [
    "squares"
   ]
  },
  {
   "cell_type": "markdown",
   "id": "d2f29b22-f1d6-4c5c-bc88-9a8f9e2dcf55",
   "metadata": {},
   "source": [
    "#### Insert\n",
    "Insert an item at a given position. The first argument is the index of the element before which to insert, so *a.insert(0, x)* inserts at the front of the list, and *a.insert(len(a), x)* is equivalent to *a.append(x)*."
   ]
  },
  {
   "cell_type": "code",
   "execution_count": 29,
   "id": "5fffedde-728f-407d-b2da-8b2bfbcca8be",
   "metadata": {},
   "outputs": [
    {
     "data": {
      "text/plain": [
       "[1, 4, 9876, 9876, 4, 9, 16, 25]"
      ]
     },
     "execution_count": 29,
     "metadata": {},
     "output_type": "execute_result"
    }
   ],
   "source": [
    "squares.insert(2, 9876)\n",
    "squares"
   ]
  },
  {
   "cell_type": "markdown",
   "id": "e4d20d5a-0200-4c99-8976-e1a55700025b",
   "metadata": {},
   "source": [
    "#### Pop\n",
    "Remove the item at the given position in the list, and return it. If no index is specified, *a.pop()* removes and returns the last item in the list. It raises an IndexError if the list is empty or the index is outside the list range."
   ]
  },
  {
   "cell_type": "code",
   "execution_count": 32,
   "id": "58f9a0eb-ca45-41ba-b519-c7528fe96ecf",
   "metadata": {},
   "outputs": [
    {
     "data": {
      "text/plain": [
       "16"
      ]
     },
     "execution_count": 32,
     "metadata": {},
     "output_type": "execute_result"
    }
   ],
   "source": [
    "squares.pop()"
   ]
  },
  {
   "cell_type": "markdown",
   "id": "37dfa443-6ce1-4b99-a869-62ed85bab052",
   "metadata": {},
   "source": [
    "#### Deletion\n",
    "Deleting an element changes the indexies of elements in the list"
   ]
  },
  {
   "cell_type": "code",
   "execution_count": 35,
   "id": "0ea6b025-bd00-4fa8-8caa-b2ab2bd11918",
   "metadata": {},
   "outputs": [
    {
     "data": {
      "text/plain": [
       "[9876, 9876, 4, 'replacement']"
      ]
     },
     "execution_count": 35,
     "metadata": {},
     "output_type": "execute_result"
    }
   ],
   "source": [
    "del squares[0]\n",
    "squares"
   ]
  },
  {
   "cell_type": "markdown",
   "id": "086a93ae-ad78-41d9-8493-3d71ba3a938b",
   "metadata": {},
   "source": [
    "#### clear\n",
    "Remove all items from the list"
   ]
  },
  {
   "cell_type": "code",
   "execution_count": 18,
   "id": "60a3e3f3-9b8d-4f55-b942-0f6a7a82b962",
   "metadata": {},
   "outputs": [
    {
     "data": {
      "text/plain": [
       "[]"
      ]
     },
     "execution_count": 18,
     "metadata": {},
     "output_type": "execute_result"
    }
   ],
   "source": [
    "squares.clear()\n",
    "squares"
   ]
  },
  {
   "cell_type": "markdown",
   "id": "46393e3a-bdeb-4039-99cb-5f801f3e804e",
   "metadata": {},
   "source": [
    "#### count\n",
    "return the number of times a specific element appears"
   ]
  },
  {
   "cell_type": "code",
   "execution_count": 24,
   "id": "fc9de909-7281-4057-adc5-038bd9982e9f",
   "metadata": {},
   "outputs": [
    {
     "data": {
      "text/plain": [
       "2"
      ]
     },
     "execution_count": 24,
     "metadata": {},
     "output_type": "execute_result"
    }
   ],
   "source": [
    "squares.count(4)"
   ]
  },
  {
   "cell_type": "markdown",
   "id": "5642b4c2-8ace-42bb-8aab-4f99306f36c9",
   "metadata": {},
   "source": [
    "#### Sort\n",
    "sort the items of the list in place"
   ]
  },
  {
   "cell_type": "code",
   "execution_count": 26,
   "id": "1e33e613-a12d-42f9-a432-8a0c81ffdf4e",
   "metadata": {},
   "outputs": [
    {
     "data": {
      "text/plain": [
       "[1, 4, 4, 9, 16, 25]"
      ]
     },
     "execution_count": 26,
     "metadata": {},
     "output_type": "execute_result"
    }
   ],
   "source": [
    "squares.sort()\n",
    "squares"
   ]
  },
  {
   "cell_type": "markdown",
   "id": "0c7a30d4-fcbb-4b89-b467-f24d2d7e4d29",
   "metadata": {},
   "source": [
    "#### reverse"
   ]
  },
  {
   "cell_type": "code",
   "execution_count": 52,
   "id": "3d0fb0e2-f4ad-4ebc-bffd-26f758b42531",
   "metadata": {},
   "outputs": [
    {
     "data": {
      "text/plain": [
       "[25, 16, 9, 4, 4, 1]"
      ]
     },
     "execution_count": 52,
     "metadata": {},
     "output_type": "execute_result"
    }
   ],
   "source": [
    "squares.sort(reverse=True)\n",
    "squares"
   ]
  },
  {
   "cell_type": "markdown",
   "id": "c77f0612-1a31-4fba-b11f-b823e8ecb9f7",
   "metadata": {},
   "source": [
    "#### concatenation"
   ]
  },
  {
   "cell_type": "code",
   "execution_count": 44,
   "id": "211e03ff-da13-4cce-8237-06f037e69f21",
   "metadata": {},
   "outputs": [
    {
     "data": {
      "text/plain": [
       "['mango', 'banana', 'apple', 'kiwi', 1, 4, 9, 16, 4, 25]"
      ]
     },
     "execution_count": 44,
     "metadata": {},
     "output_type": "execute_result"
    }
   ],
   "source": [
    "fruits + squares"
   ]
  },
  {
   "cell_type": "markdown",
   "id": "8b5de717-405a-4d82-85fe-12cc1bb5a9a1",
   "metadata": {},
   "source": [
    "#### Extend"
   ]
  },
  {
   "cell_type": "code",
   "execution_count": 45,
   "id": "7ddb9132-1edc-4583-acfc-6caca52ae9f7",
   "metadata": {},
   "outputs": [
    {
     "data": {
      "text/plain": [
       "['mango', 'banana', 'apple', 'kiwi', 'yuytr', 'jhoiy']"
      ]
     },
     "execution_count": 45,
     "metadata": {},
     "output_type": "execute_result"
    }
   ],
   "source": [
    "fruits.extend(['yuytr','jhoiy'])\n",
    "fruits"
   ]
  },
  {
   "cell_type": "markdown",
   "id": "f04124cf-2c40-4b84-831b-51812089f1bc",
   "metadata": {
    "jp-MarkdownHeadingCollapsed": true
   },
   "source": [
    "## Tuples"
   ]
  },
  {
   "cell_type": "markdown",
   "id": "1fca4902-32c0-4455-98d3-aa7bdd9b9eda",
   "metadata": {},
   "source": [
    "They are immutable and are always enclosed by parentheses.\n",
    "\n",
    "They are the default sequence type in Python."
   ]
  },
  {
   "cell_type": "code",
   "execution_count": 3,
   "id": "d86c5689-a2af-485b-98b1-048f4ffbc67f",
   "metadata": {},
   "outputs": [
    {
     "data": {
      "text/plain": [
       "(667, 78, 98, 23)"
      ]
     },
     "execution_count": 3,
     "metadata": {},
     "output_type": "execute_result"
    }
   ],
   "source": [
    "# example of a tuple\n",
    "t = (667, 78, 98, 23)\n",
    "\n",
    "#calling out the tuple with variable name t\n",
    "t"
   ]
  },
  {
   "cell_type": "markdown",
   "id": "0da47e25-203c-4d2d-8a1e-918a1f76fd47",
   "metadata": {},
   "source": [
    "#### Index"
   ]
  },
  {
   "cell_type": "code",
   "execution_count": 54,
   "id": "576b56a4-c90a-4e7a-9bc1-26cd0a4f0d37",
   "metadata": {},
   "outputs": [
    {
     "data": {
      "text/plain": [
       "667"
      ]
     },
     "execution_count": 54,
     "metadata": {},
     "output_type": "execute_result"
    }
   ],
   "source": [
    "#calling out element using their position indexes\n",
    "\n",
    "t[0]"
   ]
  },
  {
   "cell_type": "markdown",
   "id": "1bf3f956-87b9-490e-8b7e-16bef8b49175",
   "metadata": {},
   "source": [
    "#### More about Tuples"
   ]
  },
  {
   "cell_type": "code",
   "execution_count": 56,
   "id": "06952c2e-115c-4e77-a6da-42b0016506d8",
   "metadata": {},
   "outputs": [
    {
     "name": "stdout",
     "output_type": "stream",
     "text": [
      "Area and Perimeter\n"
     ]
    },
    {
     "data": {
      "text/plain": [
       "(9, 12)"
      ]
     },
     "execution_count": 56,
     "metadata": {},
     "output_type": "execute_result"
    }
   ],
   "source": [
    "#Tuples can be returned by a function\n",
    "def square_info(x):\n",
    "    A = x**2\n",
    "    P = 4*x\n",
    "    print(\"Area and Perimeter\")\n",
    "    return A,P\n",
    "\n",
    "square_info(3)"
   ]
  },
  {
   "cell_type": "code",
   "execution_count": 57,
   "id": "288dcd72-1233-4878-a0b0-f766a625fc64",
   "metadata": {},
   "outputs": [
    {
     "name": "stdout",
     "output_type": "stream",
     "text": [
      "Peter\n",
      "24\n"
     ]
    }
   ],
   "source": [
    "#Tuples can be used to extract info\n",
    "name, age = 'Peter,24'.split(',')\n",
    "print(name)\n",
    "print(age)"
   ]
  },
  {
   "cell_type": "code",
   "execution_count": null,
   "id": "0d1b0399-2032-4f2d-8404-de7a310dd97f",
   "metadata": {},
   "outputs": [],
   "source": []
  },
  {
   "cell_type": "code",
   "execution_count": null,
   "id": "918abfe8-6ca5-436d-8044-3ded4f0819a8",
   "metadata": {},
   "outputs": [],
   "source": []
  },
  {
   "cell_type": "code",
   "execution_count": null,
   "id": "a88e2fa3-9c41-41af-81d9-16c2e435a7ce",
   "metadata": {},
   "outputs": [],
   "source": []
  },
  {
   "cell_type": "code",
   "execution_count": null,
   "id": "363f6242-2503-4f5c-ad4a-f97f3c435d42",
   "metadata": {},
   "outputs": [],
   "source": []
  },
  {
   "cell_type": "code",
   "execution_count": null,
   "id": "147cfad5-a9c1-462e-bf7b-96aa3a53cec8",
   "metadata": {},
   "outputs": [],
   "source": []
  },
  {
   "cell_type": "code",
   "execution_count": null,
   "id": "fd6bd4b5-45f0-4085-81a1-e11b49be9671",
   "metadata": {},
   "outputs": [],
   "source": []
  },
  {
   "cell_type": "code",
   "execution_count": null,
   "id": "2ca197ab-294b-47ee-964e-1f1d0c907c9f",
   "metadata": {},
   "outputs": [],
   "source": []
  },
  {
   "cell_type": "code",
   "execution_count": null,
   "id": "d26c5644-e4ef-4cbb-bb76-3c2c39e2d89a",
   "metadata": {},
   "outputs": [],
   "source": []
  },
  {
   "cell_type": "code",
   "execution_count": null,
   "id": "3286c3a5-5482-45f1-8cbf-3e708aff7d3a",
   "metadata": {},
   "outputs": [],
   "source": []
  },
  {
   "cell_type": "code",
   "execution_count": null,
   "id": "4980f261-e53e-42ee-8286-4121e1133369",
   "metadata": {},
   "outputs": [],
   "source": []
  },
  {
   "cell_type": "code",
   "execution_count": null,
   "id": "d2a0a081-293c-4692-a95f-c3a967147c07",
   "metadata": {},
   "outputs": [],
   "source": []
  },
  {
   "cell_type": "code",
   "execution_count": null,
   "id": "701698dc-1311-455e-9f5c-9340f30bb856",
   "metadata": {},
   "outputs": [],
   "source": []
  },
  {
   "cell_type": "code",
   "execution_count": null,
   "id": "384ff428-682f-405a-be22-db9957807b4f",
   "metadata": {},
   "outputs": [],
   "source": []
  },
  {
   "cell_type": "code",
   "execution_count": null,
   "id": "1e28799a-4c9d-4a7e-9028-c8782dedaa79",
   "metadata": {},
   "outputs": [],
   "source": []
  },
  {
   "cell_type": "code",
   "execution_count": null,
   "id": "8a800e92-eac0-48ed-aef4-7cd7eb831e6b",
   "metadata": {},
   "outputs": [],
   "source": []
  },
  {
   "cell_type": "markdown",
   "id": "fb94771d-c496-4355-ad54-62c42e38ede3",
   "metadata": {
    "jp-MarkdownHeadingCollapsed": true
   },
   "source": [
    "## Sets"
   ]
  },
  {
   "cell_type": "markdown",
   "id": "471014a4-7523-4fba-adf8-63bc0e455998",
   "metadata": {},
   "source": [
    "A set is an unordered collection with no duplicate elements.\n",
    "\n",
    "Set objects also support mathematical operations like union, intersection, difference, and symmetric difference.\n",
    "\n",
    "Objects are enclosed by parentheses"
   ]
  },
  {
   "cell_type": "code",
   "execution_count": 15,
   "id": "b8c2d241-fee8-4d17-b288-cbfb48bebdd7",
   "metadata": {},
   "outputs": [
    {
     "data": {
      "text/plain": [
       "{'apple', 'banana', 'orange', 'pear'}"
      ]
     },
     "execution_count": 15,
     "metadata": {},
     "output_type": "execute_result"
    }
   ],
   "source": [
    "#example\n",
    "basket_1 = {'apple', 'orange', 'apple', 'pear', 'orange', 'banana'}\n",
    "basket # note that duplicates are removed"
   ]
  },
  {
   "cell_type": "markdown",
   "id": "c85a6bbf-02c0-48da-9416-6c744da8f518",
   "metadata": {},
   "source": [
    "#### membership testing"
   ]
  },
  {
   "cell_type": "code",
   "execution_count": 16,
   "id": "7a7732d0-aaf1-48e4-bdb6-c72bf253e191",
   "metadata": {},
   "outputs": [
    {
     "data": {
      "text/plain": [
       "True"
      ]
     },
     "execution_count": 16,
     "metadata": {},
     "output_type": "execute_result"
    }
   ],
   "source": [
    "'orange' in basket_1"
   ]
  },
  {
   "cell_type": "code",
   "execution_count": 17,
   "id": "794be089-25ff-4fa7-96fd-bee2eeb10213",
   "metadata": {},
   "outputs": [
    {
     "data": {
      "text/plain": [
       "False"
      ]
     },
     "execution_count": 17,
     "metadata": {},
     "output_type": "execute_result"
    }
   ],
   "source": [
    "'lemon' in basket_1"
   ]
  },
  {
   "cell_type": "markdown",
   "id": "6e4c8c92-b6bd-4bbf-8f30-11d32ad3f33f",
   "metadata": {},
   "source": [
    "#### Sequences"
   ]
  },
  {
   "cell_type": "code",
   "execution_count": 13,
   "id": "619067ff-c5c7-4f53-8047-ce3c21e469ae",
   "metadata": {},
   "outputs": [
    {
     "data": {
      "text/plain": [
       "('apple', 'orange', 'apple', 'pear', 'orange', 'banana')"
      ]
     },
     "execution_count": 13,
     "metadata": {},
     "output_type": "execute_result"
    }
   ],
   "source": [
    "#Sequence\n",
    "basket_2 = ('apple', 'orange', 'apple', 'pear', 'orange', 'banana')\n",
    "basket_2"
   ]
  },
  {
   "cell_type": "markdown",
   "id": "8c64070d-2f6d-4a2c-bc45-74e5a26f09ec",
   "metadata": {},
   "source": [
    "Relationship between sets and tuples"
   ]
  },
  {
   "cell_type": "markdown",
   "id": "09c2e21e-8f6f-44f9-9c65-d52bb4d194e8",
   "metadata": {
    "jp-MarkdownHeadingCollapsed": true
   },
   "source": [
    "## Dictionaries\n",
    "\n",
    "Key:value pair"
   ]
  },
  {
   "cell_type": "code",
   "execution_count": 10,
   "id": "505a6630-14c5-45d4-bb7d-5b77d115bf35",
   "metadata": {},
   "outputs": [
    {
     "data": {
      "text/plain": [
       "{'ki': 'cat', 'k2': 'dog', 'k3': 'mouse', 'k4': 'rabbbit'}"
      ]
     },
     "execution_count": 10,
     "metadata": {},
     "output_type": "execute_result"
    }
   ],
   "source": [
    "# An example of a dictionary\n",
    "animals = {'ki':'cat', 'k2':'dog', 'k3':'mouse', 'k4':'rabbit'}\n",
    "animals"
   ]
  },
  {
   "cell_type": "markdown",
   "id": "5aa13a11-702d-4c0a-984e-590b6061905e",
   "metadata": {},
   "source": [
    "#### dict() constructor"
   ]
  },
  {
   "cell_type": "code",
   "execution_count": 9,
   "id": "43b1c1b4-5ccd-4956-8994-fbfc3785b53d",
   "metadata": {},
   "outputs": [
    {
     "data": {
      "text/plain": [
       "{'sales': 34, 'finance': 13, 'marketing': 56}"
      ]
     },
     "execution_count": 9,
     "metadata": {},
     "output_type": "execute_result"
    }
   ],
   "source": [
    "company_1 = dict([('sales', 34), ('finance', 13), ['marketing', 56]])\n",
    "company"
   ]
  },
  {
   "cell_type": "code",
   "execution_count": 11,
   "id": "d04ec004-08df-4f8d-9fca-9abaecda56d7",
   "metadata": {},
   "outputs": [
    {
     "data": {
      "text/plain": [
       "{'sales': 34, 'finance': 13, 'marketing': 56}"
      ]
     },
     "execution_count": 11,
     "metadata": {},
     "output_type": "execute_result"
    }
   ],
   "source": [
    "# When the keys are simple strings, it is sometimes easier to specify pairs using keyword arguments:\n",
    "company_2 = dict(sales=34, finance=13, marketing=56)\n",
    "company_2"
   ]
  },
  {
   "cell_type": "code",
   "execution_count": 60,
   "id": "1c8cad61-524c-482e-b34a-4781d732c701",
   "metadata": {},
   "outputs": [
    {
     "data": {
      "text/plain": [
       "'mouse'"
      ]
     },
     "execution_count": 60,
     "metadata": {},
     "output_type": "execute_result"
    }
   ],
   "source": [
    "# Use key to get the value\n",
    "animals['k3']"
   ]
  },
  {
   "cell_type": "markdown",
   "id": "230eef5f-b1e1-46f5-9bc7-8884af7d3217",
   "metadata": {},
   "source": [
    "#### keys"
   ]
  },
  {
   "cell_type": "code",
   "execution_count": 62,
   "id": "5e85d941-f0a4-4e8e-99c1-27f16c8e3a21",
   "metadata": {},
   "outputs": [
    {
     "data": {
      "text/plain": [
       "dict_keys(['ki', 'k2', 'k3', 'k4'])"
      ]
     },
     "execution_count": 62,
     "metadata": {},
     "output_type": "execute_result"
    }
   ],
   "source": [
    "#listing the keys\n",
    "animals.keys()"
   ]
  },
  {
   "cell_type": "markdown",
   "id": "2668c662-6925-47a7-b303-8a9136f62db1",
   "metadata": {},
   "source": [
    "#### values"
   ]
  },
  {
   "cell_type": "code",
   "execution_count": 63,
   "id": "4f52727d-36f3-47df-b0db-2ade240a2b8d",
   "metadata": {},
   "outputs": [
    {
     "data": {
      "text/plain": [
       "dict_values(['cat', 'dog', 'mouse', 'rabbbit'])"
      ]
     },
     "execution_count": 63,
     "metadata": {},
     "output_type": "execute_result"
    }
   ],
   "source": [
    "#listing the values\n",
    "animals.values()"
   ]
  },
  {
   "cell_type": "markdown",
   "id": "fcc97d06-14fb-4eb8-b2e4-054aa917e749",
   "metadata": {},
   "source": [
    "#### Add an item"
   ]
  },
  {
   "cell_type": "code",
   "execution_count": 64,
   "id": "801e5fea-5c35-4103-9eb8-f3577b11f202",
   "metadata": {},
   "outputs": [],
   "source": [
    "animals['k5']='parrot'"
   ]
  },
  {
   "cell_type": "code",
   "execution_count": 65,
   "id": "5bb0902c-f0e2-4b32-8dd4-84e21df79a7a",
   "metadata": {},
   "outputs": [
    {
     "data": {
      "text/plain": [
       "{'ki': 'cat', 'k2': 'dog', 'k3': 'mouse', 'k4': 'rabbbit', 'k5': 'parrot'}"
      ]
     },
     "execution_count": 65,
     "metadata": {},
     "output_type": "execute_result"
    }
   ],
   "source": [
    "animals"
   ]
  },
  {
   "cell_type": "markdown",
   "id": "f85a9040-7d19-4214-9fe4-9f6ca12da9be",
   "metadata": {},
   "source": [
    "#### More than one value in a single key"
   ]
  },
  {
   "cell_type": "code",
   "execution_count": 66,
   "id": "0c514356-cf26-4bca-9fa7-c870836785ad",
   "metadata": {},
   "outputs": [],
   "source": [
    "workers = {'dept_1': 'James', 'dept_2':'Mary', 'dept_3':['maureen', 'Jessica', 'John']}"
   ]
  },
  {
   "cell_type": "code",
   "execution_count": 68,
   "id": "02ebd85a-cbf0-488f-85d2-38ab20fee975",
   "metadata": {},
   "outputs": [
    {
     "name": "stdout",
     "output_type": "stream",
     "text": [
      "['maureen', 'Jessica', 'John']\n"
     ]
    }
   ],
   "source": [
    "print(workers.get('dept_3'))"
   ]
  },
  {
   "cell_type": "markdown",
   "id": "52eb7fb9-96d1-4866-9a1b-91e0f9bda729",
   "metadata": {},
   "source": [
    "## Control Flow Tools"
   ]
  },
  {
   "cell_type": "markdown",
   "id": "0b28db1e-48a3-437a-afef-46e948b83c46",
   "metadata": {},
   "source": [
    "#### If Statement"
   ]
  },
  {
   "cell_type": "code",
   "execution_count": 26,
   "id": "703cf603-f5d8-4cc7-8c70-a94b1cb0ff38",
   "metadata": {},
   "outputs": [
    {
     "name": "stdin",
     "output_type": "stream",
     "text": [
      "Please enter an integer:  89\n"
     ]
    },
    {
     "name": "stdout",
     "output_type": "stream",
     "text": [
      "More\n"
     ]
    }
   ],
   "source": [
    "x = int(input(\"Please enter an integer: \"))\n",
    "if x < 0:\n",
    "    x = 0\n",
    "    print('Negative changed to zero')\n",
    "elif x == 0:\n",
    "    print('Zero')\n",
    "elif x == 1:\n",
    "    print('Single')\n",
    "else:\n",
    "    print('More')\n"
   ]
  },
  {
   "cell_type": "code",
   "execution_count": null,
   "id": "e9c6a502-9923-4481-bbb0-264d01f5b941",
   "metadata": {},
   "outputs": [],
   "source": []
  },
  {
   "cell_type": "code",
   "execution_count": null,
   "id": "0aaa2658-c55e-4c0b-b6d2-1ff4351563dd",
   "metadata": {},
   "outputs": [],
   "source": []
  },
  {
   "cell_type": "markdown",
   "id": "1eb1c074-3cb1-4678-ba44-5a7b0ffc0328",
   "metadata": {},
   "source": [
    "### If statement nested in a For loop"
   ]
  },
  {
   "cell_type": "code",
   "execution_count": 75,
   "id": "aab2c658-6e1c-47e5-afea-1ad2cace6ee0",
   "metadata": {},
   "outputs": [
    {
     "name": "stdout",
     "output_type": "stream",
     "text": [
      "0  Even 1 Odd\n",
      "2  Even 3 Odd\n",
      "4  Even 5 Odd\n",
      "6  Even 7 Odd\n",
      "8  Even 9 Odd\n",
      "10  Even 11 Odd\n",
      "12  Even 13 Odd\n",
      "14  Even 15 Odd\n",
      "16  Even 17 Odd\n",
      "18  Even 19 Odd\n"
     ]
    }
   ],
   "source": [
    "for i in range(20):\n",
    "    if i%2==0:\n",
    "        print(str(i),\" Even\", end=\" \")\n",
    "    else:\n",
    "        print(str(i), \"Odd\")"
   ]
  },
  {
   "cell_type": "code",
   "execution_count": null,
   "id": "dad9c7b7-481a-4f3a-a200-b3ff8de1bfad",
   "metadata": {},
   "outputs": [],
   "source": []
  }
 ],
 "metadata": {
  "kernelspec": {
   "display_name": "Python 3 (ipykernel)",
   "language": "python",
   "name": "python3"
  },
  "language_info": {
   "codemirror_mode": {
    "name": "ipython",
    "version": 3
   },
   "file_extension": ".py",
   "mimetype": "text/x-python",
   "name": "python",
   "nbconvert_exporter": "python",
   "pygments_lexer": "ipython3",
   "version": "3.12.1"
  }
 },
 "nbformat": 4,
 "nbformat_minor": 5
}
