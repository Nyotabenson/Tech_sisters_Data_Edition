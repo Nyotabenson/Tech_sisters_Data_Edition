{
 "cells": [
  {
   "cell_type": "markdown",
   "id": "960f5f44-0cb7-4139-b25a-06a7dfa0da8b",
   "metadata": {},
   "source": [
    "Python"
   ]
  },
  {
   "cell_type": "code",
   "execution_count": 3,
   "id": "280c7bfc-57d0-4844-91ae-f100cd2c38e2",
   "metadata": {},
   "outputs": [
    {
     "name": "stdin",
     "output_type": "stream",
     "text": [
      "How many orders? 99\n"
     ]
    }
   ],
   "source": [
    "x = int(input(\"How many orders?\"))"
   ]
  },
  {
   "cell_type": "code",
   "execution_count": 5,
   "id": "b3d4d70c-5dd5-4bbd-8c08-93039bb1fcd2",
   "metadata": {},
   "outputs": [
    {
     "name": "stdout",
     "output_type": "stream",
     "text": [
      "Calm day\n"
     ]
    }
   ],
   "source": [
    "if x>100:\n",
    "    print(\"Busy Day!\")\n",
    "else:\n",
    "    print(\"Calm day\")"
   ]
  },
  {
   "cell_type": "code",
   "execution_count": 6,
   "id": "e0854037-fc06-42d5-9376-2991665b630e",
   "metadata": {},
   "outputs": [
    {
     "data": {
      "text/plain": [
       "8"
      ]
     },
     "execution_count": 6,
     "metadata": {},
     "output_type": "execute_result"
    }
   ],
   "source": [
    "2**3"
   ]
  },
  {
   "cell_type": "code",
   "execution_count": 7,
   "id": "c8f7bf07-a381-4d99-a5c2-154faeb731d9",
   "metadata": {},
   "outputs": [
    {
     "data": {
      "text/plain": [
       "1.4142135623730951"
      ]
     },
     "execution_count": 7,
     "metadata": {},
     "output_type": "execute_result"
    }
   ],
   "source": [
    "from math import sqrt\n",
    "sqrt(2)"
   ]
  },
  {
   "cell_type": "code",
   "execution_count": null,
   "id": "cd9ac8a9-b8ef-43f8-9fb1-d17a7bc93896",
   "metadata": {},
   "outputs": [],
   "source": [
    "volume = 2**3/(6*sqrt(2))"
   ]
  },
  {
   "cell_type": "code",
   "execution_count": 10,
   "id": "b1fc09be-8e08-4ab8-9a52-c589a4b713a4",
   "metadata": {},
   "outputs": [],
   "source": [
    "def tetra(a):\n",
    "    from math import sqrt\n",
    "    volume = round(a**3/(6*sqrt(2)),2)\n",
    "    print(f\"{volume} m^3\")"
   ]
  },
  {
   "cell_type": "code",
   "execution_count": 11,
   "id": "5f78d2a6-90c4-455e-9464-221330a7a289",
   "metadata": {},
   "outputs": [
    {
     "name": "stdout",
     "output_type": "stream",
     "text": [
      "40.42 m^3\n"
     ]
    }
   ],
   "source": [
    "tetra(7)"
   ]
  },
  {
   "cell_type": "code",
   "execution_count": 20,
   "id": "530a2d2a-6526-43fc-9bf0-56b7e8c36043",
   "metadata": {},
   "outputs": [],
   "source": [
    "employees = {\n",
    "                             \"Joan\" : [41, 33, 49, 25], \n",
    "                                         \"Stephany\" : [45, 41,40, 38]}\n"
   ]
  },
  {
   "cell_type": "code",
   "execution_count": 14,
   "id": "5416bb2d-43d7-4150-a58e-c95c835e64c9",
   "metadata": {},
   "outputs": [
    {
     "data": {
      "text/plain": [
       "171"
      ]
     },
     "execution_count": 14,
     "metadata": {},
     "output_type": "execute_result"
    }
   ],
   "source": [
    "sum(employees[\"Benson\"])"
   ]
  },
  {
   "cell_type": "code",
   "execution_count": 17,
   "id": "e364b13d-d5a4-4807-87f9-88bded6bc25b",
   "metadata": {},
   "outputs": [
    {
     "name": "stdout",
     "output_type": "stream",
     "text": [
      "Benson : 171\n",
      "Joan : 148\n",
      "Stephany : 164\n"
     ]
    }
   ],
   "source": [
    "for k in employees.keys():\n",
    "    print(f\"{k} : {sum(employees[k])}\")"
   ]
  },
  {
   "cell_type": "code",
   "execution_count": 22,
   "id": "da4f9bcc-ff04-427f-80ab-59ea6fb5a7dc",
   "metadata": {},
   "outputs": [
    {
     "name": "stdout",
     "output_type": "stream",
     "text": [
      "CPU times: total: 0 ns\n",
      "Wall time: 0 ns\n"
     ]
    }
   ],
   "source": [
    "%%time\n",
    "def salary(x):\n",
    "    for k in x.keys():\n",
    "        if sum(x[k])<=160:\n",
    "            wage = sum(x[k])*75\n",
    "            print(f'{k} : {wage}')\n",
    "        else:\n",
    "            tt_wage = (160*75)+((sum(x[k])-160)*(1.5*75))\n",
    "            print(f\"{k} : {tt_wage}\")"
   ]
  },
  {
   "cell_type": "code",
   "execution_count": 21,
   "id": "b7e6fa7f-b775-443a-b0bb-8090d8bfc6df",
   "metadata": {},
   "outputs": [
    {
     "name": "stdout",
     "output_type": "stream",
     "text": [
      "Joan : 11100\n",
      "Stephany : 12450.0\n"
     ]
    }
   ],
   "source": [
    "salary(employees)"
   ]
  },
  {
   "cell_type": "code",
   "execution_count": 29,
   "id": "be0d52b6-eb67-4a57-83d8-aab7e7eb0960",
   "metadata": {},
   "outputs": [],
   "source": [
    "x =40"
   ]
  },
  {
   "cell_type": "code",
   "execution_count": null,
   "id": "65051f59-7df5-4cc0-b6ae-464a72966dc6",
   "metadata": {},
   "outputs": [],
   "source": []
  },
  {
   "cell_type": "code",
   "execution_count": 30,
   "id": "ea3b698d-c14a-473b-8fab-445e39022128",
   "metadata": {},
   "outputs": [
    {
     "name": "stdout",
     "output_type": "stream",
     "text": [
      "python 40\n"
     ]
    }
   ],
   "source": [
    "print(f\"python {x}\" )"
   ]
  },
  {
   "cell_type": "code",
   "execution_count": null,
   "id": "f44cee5e-7603-421b-bd13-7f67653a7061",
   "metadata": {},
   "outputs": [],
   "source": [
    "print(\"Python\", str(x))"
   ]
  }
 ],
 "metadata": {
  "kernelspec": {
   "display_name": "Python 3 (ipykernel)",
   "language": "python",
   "name": "python3"
  },
  "language_info": {
   "codemirror_mode": {
    "name": "ipython",
    "version": 3
   },
   "file_extension": ".py",
   "mimetype": "text/x-python",
   "name": "python",
   "nbconvert_exporter": "python",
   "pygments_lexer": "ipython3",
   "version": "3.12.1"
  }
 },
 "nbformat": 4,
 "nbformat_minor": 5
}
